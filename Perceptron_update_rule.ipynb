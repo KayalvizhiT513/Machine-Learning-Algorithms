{
  "nbformat": 4,
  "nbformat_minor": 0,
  "metadata": {
    "colab": {
      "provenance": [],
      "authorship_tag": "ABX9TyP1u8b1j0lj3p2SItlXrNH/",
      "include_colab_link": true
    },
    "kernelspec": {
      "name": "python3",
      "display_name": "Python 3"
    },
    "language_info": {
      "name": "python"
    }
  },
  "cells": [
    {
      "cell_type": "markdown",
      "metadata": {
        "id": "view-in-github",
        "colab_type": "text"
      },
      "source": [
        "<a href=\"https://colab.research.google.com/github/KayalvizhiT513/WhyMachinesLearn-Algos/blob/main/Perceptron_update_rule.ipynb\" target=\"_parent\"><img src=\"https://colab.research.google.com/assets/colab-badge.svg\" alt=\"Open In Colab\"/></a>"
      ]
    },
    {
      "cell_type": "code",
      "source": [
        "import numpy as np"
      ],
      "metadata": {
        "id": "LbABzF5Ep6Q5"
      },
      "execution_count": 79,
      "outputs": []
    },
    {
      "cell_type": "code",
      "execution_count": 106,
      "metadata": {
        "id": "A940-VHRjKzU"
      },
      "outputs": [],
      "source": [
        "class Perceptron:\n",
        "    def __init__(self, input_size, learning_rate=0.1, epochs=100):\n",
        "        # Initialize weights and bias\n",
        "        self.weights = np.zeros(input_size)  # Weight vector\n",
        "        self.bias = 0.0                      # Bias term\n",
        "        self.learning_rate = learning_rate  # Learning rate for updates\n",
        "        self.epochs = epochs                # Maximum number of epochs\n",
        "\n",
        "    def predict(self, x):\n",
        "        # Compute the linear combination and apply the sign activation function\n",
        "        linear_output = np.dot(x, self.weights) + self.bias\n",
        "        return np.sign(linear_output)  # Returns -1 or 1\n",
        "\n",
        "    def fit(self, X, y):\n",
        "        for epoch in range(self.epochs):\n",
        "            for idx, x_i in enumerate(X):\n",
        "                prediction = self.predict(x_i)\n",
        "                # Update weights if there's a misclassification\n",
        "                if y[idx] * prediction <= 0:\n",
        "                    self.weights += self.learning_rate * y[idx] * x_i\n",
        "                    self.bias += self.learning_rate * y[idx]\n",
        "\n",
        "    def evaluate(self, X):\n",
        "        # Calculate the predictions for a given dataset\n",
        "        return [self.predict(x) for x in X]"
      ]
    },
    {
      "cell_type": "code",
      "source": [
        "# AND dataset (linearly separable)\n",
        "X = np.array([\n",
        "    [0, 0],\n",
        "    [0, 1],\n",
        "    [1, 0],\n",
        "    [1, 1]\n",
        "])\n",
        "y = np.array([-1, -1, -1, 1])  # Labels: 1 or -1\n",
        "\n",
        "# Create a perceptron instance\n",
        "perceptron = Perceptron(input_size=X.shape[1], learning_rate=0.1, epochs=100)\n",
        "\n",
        "# Train the perceptron\n",
        "perceptron.fit(X, y)\n",
        "\n",
        "# Final weights and bias\n",
        "print(\"Weights:\", perceptron.weights)\n",
        "print(\"Bias:\", perceptron.bias)\n",
        "\n",
        "# Test predictions\n",
        "predictions = perceptron.evaluate(X)\n",
        "print(\"Predictions:\", predictions)\n"
      ],
      "metadata": {
        "colab": {
          "base_uri": "https://localhost:8080/"
        },
        "id": "3jOYj1kDrdtR",
        "outputId": "c083e63e-c6b4-44e2-f5b5-7c16f8075275"
      },
      "execution_count": 111,
      "outputs": [
        {
          "output_type": "stream",
          "name": "stdout",
          "text": [
            "Weights: [0.2 0.1]\n",
            "Bias: -0.20000000000000004\n",
            "Predictions: [-1.0, -1.0, -1.0, 1.0]\n"
          ]
        }
      ]
    },
    {
      "cell_type": "code",
      "source": [
        "# OR dataset (linearly separable)\n",
        "X = np.array([\n",
        "    [0, 0],\n",
        "    [0, 1],\n",
        "    [1, 0],\n",
        "    [1, 1]\n",
        "])\n",
        "y = np.array([-1, 1, 1, 1])  # Labels: 1 or -1\n",
        "\n",
        "# Create a perceptron instance\n",
        "perceptron = Perceptron(input_size=X.shape[1], learning_rate=0.1, epochs=100)\n",
        "\n",
        "# Train the perceptron\n",
        "perceptron.fit(X, y)\n",
        "\n",
        "# Final weights and bias\n",
        "print(\"Weights:\", perceptron.weights)\n",
        "print(\"Bias:\", perceptron.bias)\n",
        "\n",
        "# Test predictions\n",
        "predictions = perceptron.evaluate(X)\n",
        "print(\"Predictions:\", predictions)\n"
      ],
      "metadata": {
        "colab": {
          "base_uri": "https://localhost:8080/"
        },
        "id": "6ZOQyTPD9G99",
        "outputId": "f1010fa5-e115-4c84-8109-023f6f797925"
      },
      "execution_count": 112,
      "outputs": [
        {
          "output_type": "stream",
          "name": "stdout",
          "text": [
            "Weights: [0.2 0.2]\n",
            "Bias: -0.1\n",
            "Predictions: [-1.0, 1.0, 1.0, 1.0]\n"
          ]
        }
      ]
    },
    {
      "cell_type": "code",
      "source": [],
      "metadata": {
        "id": "3qjDKOSEEGvV"
      },
      "execution_count": null,
      "outputs": []
    }
  ]
}